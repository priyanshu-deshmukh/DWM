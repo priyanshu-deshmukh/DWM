{
  "cells": [
    {
      "cell_type": "markdown",
      "metadata": {
        "id": "xdbDGwImEcOA"
      },
      "source": [
        "<h2>Name: Priyanshu Deshmukh</h2>\n",
        "<h2>PRN: 22070521182</h2>"
      ]
    },
    {
      "cell_type": "code",
      "execution_count": null,
      "metadata": {
        "id": "dRsiqf5u6WHl"
      },
      "outputs": [],
      "source": [
        "import pandas as pd"
      ]
    },
    {
      "cell_type": "code",
      "execution_count": null,
      "metadata": {
        "id": "LH80rC_08GGd"
      },
      "outputs": [],
      "source": [
        "df = pd.read_csv('/content/expanded_car_sales_data.csv')"
      ]
    },
    {
      "cell_type": "code",
      "execution_count": null,
      "metadata": {
        "colab": {
          "base_uri": "https://localhost:8080/",
          "height": 206
        },
        "id": "yVO7jPiT8H0w",
        "outputId": "6b5ff7ca-405d-4abd-cc3e-ff6e311b5ffd"
      },
      "outputs": [],
      "source": [
        "df.head()"
      ]
    },
    {
      "cell_type": "code",
      "execution_count": null,
      "metadata": {
        "colab": {
          "base_uri": "https://localhost:8080/",
          "height": 241
        },
        "id": "D2fWze8U8Ndi",
        "outputId": "d7991006-eff4-402d-efbe-1445e3b3cfb0"
      },
      "outputs": [],
      "source": [
        "df.isnull().sum()"
      ]
    },
    {
      "cell_type": "code",
      "execution_count": null,
      "metadata": {
        "id": "4cwHeevs8InC"
      },
      "outputs": [],
      "source": [
        "df.loc[:, 'Make'] = df['Make'].fillna('Unknown')\n",
        "df.loc[:, 'Colour'] = df['Colour'].fillna('Unknown')"
      ]
    },
    {
      "cell_type": "code",
      "execution_count": null,
      "metadata": {
        "id": "oE2oYaoq_zCZ"
      },
      "outputs": [],
      "source": [
        "df['Price'] = df['Price'].replace('[\\$,]', '', regex=True).astype(float)"
      ]
    },
    {
      "cell_type": "code",
      "execution_count": null,
      "metadata": {
        "id": "Tpnghxi4_4t_"
      },
      "outputs": [],
      "source": [
        "df['Odometer'] = df['Odometer'].fillna(df['Odometer'].mean())\n",
        "df['Doors'] = df['Doors'].fillna(df['Doors'].median())\n",
        "df['Price'] = df['Price'].fillna(df['Price'].mean())"
      ]
    },
    {
      "cell_type": "code",
      "execution_count": null,
      "metadata": {
        "colab": {
          "base_uri": "https://localhost:8080/"
        },
        "id": "abnSPIOu_C--",
        "outputId": "cd6d4c00-908c-4503-c7d3-6328ad6dc978"
      },
      "outputs": [],
      "source": [
        "print(df.isnull().sum())\n"
      ]
    },
    {
      "cell_type": "code",
      "execution_count": null,
      "metadata": {
        "colab": {
          "base_uri": "https://localhost:8080/",
          "height": 241
        },
        "id": "khhfHdN58Rt_",
        "outputId": "7a5f9335-669a-4134-de67-1c0c0969fab8"
      },
      "outputs": [],
      "source": [
        "df.isnull().sum()"
      ]
    }
  ],
  "metadata": {
    "colab": {
      "provenance": []
    },
    "kernelspec": {
      "display_name": "Python 3",
      "name": "python3"
    },
    "language_info": {
      "name": "python"
    }
  },
  "nbformat": 4,
  "nbformat_minor": 0
}
